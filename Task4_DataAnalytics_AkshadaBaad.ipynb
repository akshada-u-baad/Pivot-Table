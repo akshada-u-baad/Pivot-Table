{
 "cells": [
  {
   "cell_type": "markdown",
   "id": "b52964b4",
   "metadata": {},
   "source": [
    "# Task4 : Pivot Table"
   ]
  },
  {
   "cell_type": "markdown",
   "id": "36aedd66",
   "metadata": {},
   "source": [
    "Name: Akshada Uttam Baad"
   ]
  },
  {
   "cell_type": "code",
   "execution_count": 20,
   "id": "0de95b38",
   "metadata": {},
   "outputs": [],
   "source": [
    "import pandas as pd\n"
   ]
  },
  {
   "cell_type": "code",
   "execution_count": 12,
   "id": "5ef4ad5e",
   "metadata": {},
   "outputs": [],
   "source": [
    "data = pd.read_csv('D:\\\\software\\\\python\\\\Datasets\\\\train.csv')\n"
   ]
  },
  {
   "cell_type": "code",
   "execution_count": 14,
   "id": "308c0242",
   "metadata": {},
   "outputs": [],
   "source": [
    "pivot_table = pd.pivot_table(data, values='SalePrice', index='OverallQual', columns='YearBuilt', aggfunc='mean')\n"
   ]
  },
  {
   "cell_type": "code",
   "execution_count": 15,
   "id": "17652c5d",
   "metadata": {},
   "outputs": [
    {
     "name": "stdout",
     "output_type": "stream",
     "text": [
      "YearBuilt        1872     1875      1880      1882      1885      1890  \\\n",
      "OverallQual                                                              \n",
      "1                 NaN      NaN       NaN       NaN       NaN       NaN   \n",
      "2                 NaN      NaN       NaN       NaN       NaN       NaN   \n",
      "3                 NaN      NaN       NaN       NaN       NaN       NaN   \n",
      "4                 NaN      NaN       NaN       NaN  111250.0       NaN   \n",
      "5                 NaN  94000.0  124000.0       NaN       NaN  124900.0   \n",
      "6                 NaN      NaN  117500.0       NaN       NaN       NaN   \n",
      "7                 NaN      NaN  280489.5       NaN       NaN  159500.0   \n",
      "8            122000.0      NaN       NaN  168000.0       NaN       NaN   \n",
      "9                 NaN      NaN       NaN       NaN       NaN       NaN   \n",
      "10                NaN      NaN       NaN       NaN       NaN       NaN   \n",
      "\n",
      "YearBuilt        1892      1893      1898           1900  ...           2001  \\\n",
      "OverallQual                                               ...                  \n",
      "1                 NaN       NaN       NaN            NaN  ...            NaN   \n",
      "2                 NaN       NaN       NaN            NaN  ...            NaN   \n",
      "3                 NaN       NaN       NaN   95000.000000  ...            NaN   \n",
      "4                 NaN       NaN       NaN   98675.333333  ...            NaN   \n",
      "5            107500.0       NaN  106000.0  122316.666667  ...            NaN   \n",
      "6                 NaN       NaN       NaN            NaN  ...  215000.000000   \n",
      "7                 NaN       NaN       NaN            NaN  ...  210288.888889   \n",
      "8                 NaN       NaN       NaN            NaN  ...  253166.666667   \n",
      "9                 NaN       NaN       NaN            NaN  ...            NaN   \n",
      "10           475000.0  325000.0       NaN            NaN  ...  466500.000000   \n",
      "\n",
      "YearBuilt        2002           2003           2004           2005  \\\n",
      "OverallQual                                                          \n",
      "1                 NaN            NaN            NaN            NaN   \n",
      "2                 NaN            NaN            NaN            NaN   \n",
      "3                 NaN            NaN            NaN            NaN   \n",
      "4                 NaN  140000.000000            NaN  176000.000000   \n",
      "5                 NaN            NaN  159000.000000  164713.333333   \n",
      "6            199900.0  159214.285714  153670.000000  169652.307692   \n",
      "7            209600.0  202525.440000  191009.551724  203735.250000   \n",
      "8            244690.0  297875.000000  284800.000000  292255.727273   \n",
      "9            285000.0  382166.666667  330333.333333  363070.125000   \n",
      "10                NaN  386250.000000            NaN            NaN   \n",
      "\n",
      "YearBuilt             2006           2007        2008           2009      2010  \n",
      "OverallQual                                                                     \n",
      "1                      NaN            NaN         NaN            NaN       NaN  \n",
      "2                      NaN            NaN         NaN            NaN       NaN  \n",
      "3                      NaN            NaN         NaN            NaN       NaN  \n",
      "4                      NaN            NaN         NaN            NaN       NaN  \n",
      "5            135666.666667  147000.000000         NaN            NaN       NaN  \n",
      "6            172787.250000  214000.000000         NaN  183133.250000       NaN  \n",
      "7            211177.680000  212161.578947  227680.000  224349.714286       NaN  \n",
      "8            270985.720000  280879.000000  295794.300  254130.333333       NaN  \n",
      "9            353634.428571  301474.800000  420119.625  459242.333333  394432.0  \n",
      "10           413760.000000  331916.666667  369237.500  402861.000000       NaN  \n",
      "\n",
      "[10 rows x 112 columns]\n"
     ]
    }
   ],
   "source": [
    "print(pivot_table)\n"
   ]
  },
  {
   "cell_type": "code",
   "execution_count": 19,
   "id": "1a424be8",
   "metadata": {},
   "outputs": [
    {
     "name": "stdout",
     "output_type": "stream",
     "text": [
      "YearBuilt      2010    2009    2008    2007    2006    2005    2004    2003  \\\n",
      "OverallQual                                                                   \n",
      "10              NaN 402,861 369,238 331,917 413,760     NaN     NaN 386,250   \n",
      "9           394,432 459,242 420,120 301,475 353,634 363,070 330,333 382,167   \n",
      "8               NaN 254,130 295,794 280,879 270,986 292,256 284,800 297,875   \n",
      "7               NaN 224,350 227,680 212,162 211,178 203,735 191,010 202,525   \n",
      "6               NaN 183,133     NaN 214,000 172,787 169,652 153,670 159,214   \n",
      "5               NaN     NaN     NaN 147,000 135,667 164,713 159,000     NaN   \n",
      "4               NaN     NaN     NaN     NaN     NaN 176,000     NaN 140,000   \n",
      "3               NaN     NaN     NaN     NaN     NaN     NaN     NaN     NaN   \n",
      "2               NaN     NaN     NaN     NaN     NaN     NaN     NaN     NaN   \n",
      "1               NaN     NaN     NaN     NaN     NaN     NaN     NaN     NaN   \n",
      "\n",
      "YearBuilt      2002    2001  ...    1900    1898    1893    1892    1890  \\\n",
      "OverallQual                  ...                                           \n",
      "10              NaN 466,500  ...     NaN     NaN 325,000 475,000     NaN   \n",
      "9           285,000     NaN  ...     NaN     NaN     NaN     NaN     NaN   \n",
      "8           244,690 253,167  ...     NaN     NaN     NaN     NaN     NaN   \n",
      "7           209,600 210,289  ...     NaN     NaN     NaN     NaN 159,500   \n",
      "6           199,900 215,000  ...     NaN     NaN     NaN     NaN     NaN   \n",
      "5               NaN     NaN  ... 122,317 106,000     NaN 107,500 124,900   \n",
      "4               NaN     NaN  ...  98,675     NaN     NaN     NaN     NaN   \n",
      "3               NaN     NaN  ...  95,000     NaN     NaN     NaN     NaN   \n",
      "2               NaN     NaN  ...     NaN     NaN     NaN     NaN     NaN   \n",
      "1               NaN     NaN  ...     NaN     NaN     NaN     NaN     NaN   \n",
      "\n",
      "YearBuilt      1885    1882    1880   1875    1872  \n",
      "OverallQual                                         \n",
      "10              NaN     NaN     NaN    NaN     NaN  \n",
      "9               NaN     NaN     NaN    NaN     NaN  \n",
      "8               NaN 168,000     NaN    NaN 122,000  \n",
      "7               NaN     NaN 280,490    NaN     NaN  \n",
      "6               NaN     NaN 117,500    NaN     NaN  \n",
      "5               NaN     NaN 124,000 94,000     NaN  \n",
      "4           111,250     NaN     NaN    NaN     NaN  \n",
      "3               NaN     NaN     NaN    NaN     NaN  \n",
      "2               NaN     NaN     NaN    NaN     NaN  \n",
      "1               NaN     NaN     NaN    NaN     NaN  \n",
      "\n",
      "[10 rows x 112 columns]\n"
     ]
    }
   ],
   "source": [
    "import pandas as pd\n",
    "\n",
    "# Load the dataset into a DataFrame\n",
    "data = pd.read_csv('D:\\\\software\\\\python\\\\Datasets\\\\train.csv')\n",
    "\n",
    "# Create a pivot table\n",
    "pivot_table = pd.pivot_table(data, values='SalePrice', index='OverallQual', columns='YearBuilt', aggfunc='mean')\n",
    "\n",
    "# Set the float format to display integers (no decimal places)\n",
    "pd.options.display.float_format = '{:,.0f}'.format\n",
    "\n",
    "# Sort the index (rows) and columns\n",
    "pivot_table = pivot_table.sort_index(ascending=False)\n",
    "pivot_table = pivot_table.sort_index(axis=1, ascending=False)\n",
    "\n",
    "# View and analyze the organized pivot table\n",
    "print(pivot_table)\n"
   ]
  }
 ],
 "metadata": {
  "kernelspec": {
   "display_name": "Python 3 (ipykernel)",
   "language": "python",
   "name": "python3"
  },
  "language_info": {
   "codemirror_mode": {
    "name": "ipython",
    "version": 3
   },
   "file_extension": ".py",
   "mimetype": "text/x-python",
   "name": "python",
   "nbconvert_exporter": "python",
   "pygments_lexer": "ipython3",
   "version": "3.10.9"
  }
 },
 "nbformat": 4,
 "nbformat_minor": 5
}
